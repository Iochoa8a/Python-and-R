{
 "cells": [
  {
   "cell_type": "markdown",
   "metadata": {
    "id": "rPMkGP_Eoba2"
   },
   "source": [
    "### Imprimir"
   ]
  },
  {
   "cell_type": "code",
   "execution_count": null,
   "metadata": {
    "id": "CuuUKPJfobbE"
   },
   "outputs": [],
   "source": []
  },
  {
   "cell_type": "markdown",
   "metadata": {
    "id": "-G7OrKieobbL"
   },
   "source": [
    "# **Problema: dibujar animales**\n",
    "\n",
    "Tomamos los casos concretos de dibujar gatos y conejos.\n",
    "\n",
    "Identificamos la forma de los animales que queremos hacer y los pasos que debemos hacer para dibujarlos.\n",
    "\n",
    "\n",
    "**Pasos:**\n",
    "\n",
    "1. Elegir el color del animal.\n",
    "2. Dibujar las orejas.\n",
    "3. Dibujar la cara.\n",
    "4. Dibujar las patas."
   ]
  },
  {
   "cell_type": "code",
   "execution_count": null,
   "metadata": {
    "id": "eSuqtgHtobbN"
   },
   "outputs": [],
   "source": [
    "from _______ import _______"
   ]
  },
  {
   "cell_type": "markdown",
   "metadata": {
    "id": "mqGXl1JlobbQ"
   },
   "source": [
    "#### Gato"
   ]
  },
  {
   "cell_type": "code",
   "execution_count": null,
   "metadata": {
    "id": "awIx7gg1obbR"
   },
   "outputs": [],
   "source": [
    "print(_______('(\\__/)', '___'))  #dibujar las orejas\n",
    "print(_______('(>’.’<)', '___')) #dibujar la cara\n",
    "print(_______('(\")_(\")', '___')) #dibujar las patas"
   ]
  },
  {
   "cell_type": "markdown",
   "metadata": {
    "id": "Kve_Pk-_obbU"
   },
   "source": [
    "#### Conejo"
   ]
  },
  {
   "cell_type": "code",
   "execution_count": null,
   "metadata": {
    "id": "Tm1ZszqNobbX"
   },
   "outputs": [],
   "source": [
    "print(_______('(\\_/)', '___'))   #dibujar las orejas\n",
    "print(_______('( •,•)', '___'))  #dibujar la cara\n",
    "print(_______('(\")_(\")', '___')) #dibujar las patas"
   ]
  },
  {
   "cell_type": "markdown",
   "metadata": {
    "id": "qDP7PWx1obba"
   },
   "source": [
    "### Pseudocodigo"
   ]
  },
  {
   "cell_type": "code",
   "execution_count": null,
   "metadata": {
    "id": "xq6Gampfobbc"
   },
   "outputs": [],
   "source": [
    "# Calcular área y volumen del cilindro\n",
    "\n",
    "# -*- coding: utf-8 -*-\n",
    "#Algoritmo: Cálculo de área y volumen\n",
    "\n",
    "print(\"-------------------------------------------------------\")"
   ]
  },
  {
   "cell_type": "markdown",
   "metadata": {
    "id": "cI6gXcSsobbh"
   },
   "source": [
    "### Ejercicios \n",
    "\n",
    "Realice el código y el pseudocódigo para resolver los siguientes problemas:"
   ]
  },
  {
   "cell_type": "markdown",
   "metadata": {
    "id": "RK-ehXnQobbi"
   },
   "source": [
    "1.) Dado el tiempo en segundos y la distancia en metros de un móvil, ingresados por teclado, calcule la velocidad correspondiente. "
   ]
  },
  {
   "cell_type": "code",
   "execution_count": null,
   "metadata": {
    "id": "G5WEcTYlobbj"
   },
   "outputs": [],
   "source": []
  },
  {
   "cell_type": "markdown",
   "metadata": {
    "id": "UZPnvnJAobbl"
   },
   "source": [
    "2.) Calcular el monto a pagar por un artículo si se tiene como datos de entrada la cantidad de docenas que compra y el costo por unidad de este artículo."
   ]
  },
  {
   "cell_type": "code",
   "execution_count": null,
   "metadata": {
    "id": "4toqEgFsobbm"
   },
   "outputs": [],
   "source": []
  },
  {
   "cell_type": "markdown",
   "metadata": {
    "id": "V8HDKRB9obbn"
   },
   "source": [
    "3.) Realice un diagrama de flujo que convierta millas a kilómetros. Se sabe que una milla equivale a 1.609344 kilómetros."
   ]
  },
  {
   "cell_type": "code",
   "execution_count": null,
   "metadata": {
    "id": "Q02voSQTobbo"
   },
   "outputs": [],
   "source": []
  },
  {
   "cell_type": "markdown",
   "metadata": {
    "id": "aeZnr11vobbp"
   },
   "source": [
    "4.) Si se conoce la longitud de dos de los lados de un triángulo (b y c) y el ángulo entre ellos ($\\alpha$), expresado en grados sexagesimales, la longitud del tercer lado (a) se calcula por la fórmula:\n",
    "\n",
    "$$ a^2 = b^2 + c^2 = 2bc*cos( \\alpha )$$"
   ]
  },
  {
   "cell_type": "code",
   "execution_count": null,
   "metadata": {
    "id": "DEna4rZyobbq"
   },
   "outputs": [],
   "source": []
  },
  {
   "cell_type": "markdown",
   "metadata": {
    "id": "l6B5yCAtobbs"
   },
   "source": [
    "5.) Mostrar el precio del IVA (19%) de un producto con un valor ingresado y su precio final."
   ]
  },
  {
   "cell_type": "code",
   "execution_count": null,
   "metadata": {
    "id": "zBbaxSQkobbt"
   },
   "outputs": [],
   "source": []
  }
 ],
 "metadata": {
  "colab": {
   "collapsed_sections": [],
   "name": "(2) Pensamiento Computacional.ipynb",
   "provenance": []
  },
  "kernelspec": {
   "display_name": "Python 3",
   "language": "python",
   "name": "python3"
  },
  "language_info": {
   "codemirror_mode": {
    "name": "ipython",
    "version": 3
   },
   "file_extension": ".py",
   "mimetype": "text/x-python",
   "name": "python",
   "nbconvert_exporter": "python",
   "pygments_lexer": "ipython3",
   "version": "3.8.5"
  }
 },
 "nbformat": 4,
 "nbformat_minor": 1
}
